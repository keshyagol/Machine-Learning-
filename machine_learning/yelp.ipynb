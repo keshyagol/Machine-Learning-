{
 "cells": [
  {
   "cell_type": "code",
   "execution_count": 2,
   "metadata": {},
   "outputs": [
    {
     "name": "stdout",
     "output_type": "stream",
     "text": [
      "0.9415302372201804\n",
      "[False]\n"
     ]
    }
   ],
   "source": [
    "import json as j\n",
    "import pandas as pd\n",
    "import numpy as np\n",
    "\n",
    "from sklearn.model_selection import train_test_split\n",
    "from sklearn.feature_extraction.text import CountVectorizer\n",
    "from sklearn.linear_model import LogisticRegression\n",
    "from sklearn.feature_extraction.text import TfidfTransformer\n",
    "\n",
    "\n",
    "# --- read and transform json file\n",
    "json_data = None\n",
    "with open('data/yelp/yelp_academic_dataset_review.json') as data_file:\n",
    "    lines = data_file.readlines()\n",
    "    joined_lines = \"[\" + \",\".join(lines) + \"]\"\n",
    "\n",
    "    json_data = j.loads(joined_lines)\n",
    "\n",
    "data = pd.DataFrame(json_data)\n",
    "#print(data.head())\n",
    "\n",
    "# --- prepare the data\n",
    "\n",
    "data = data[data.stars != 3]\n",
    "data['sentiment'] = data['stars'] >= 4\n",
    "#print(data.head())\n",
    "\n",
    "# --- build the model\n",
    "\n",
    "X_train, X_test, y_train, y_test = train_test_split(data, data.sentiment, test_size=0.2)\n",
    "\n",
    "# -\n",
    "count = CountVectorizer()\n",
    "temp = count.fit_transform(X_train.text)\n",
    "\n",
    "tdif = TfidfTransformer()\n",
    "temp2 = tdif.fit_transform(temp)\n",
    "\n",
    "text_regression = LogisticRegression()\n",
    "model = text_regression.fit(temp2, y_train)\n",
    "\n",
    "prediction_data = tdif.transform(count.transform(X_test.text))\n",
    "\n",
    "predicted = model.predict(prediction_data)\n",
    "\n",
    "# instead of doing all this steps above one could also use Pipeline\n",
    "# this is a more compact way of writing the code above...\n",
    "# it also has the benefit that there is no need to perform the transformations on the test data\n",
    "#\n",
    "#\n",
    "#from sklearn.pipeline import Pipeline\n",
    "#text_regression = Pipeline([('count', CountVectorizer()), ('tfidf', TfidfTransformer()),('reg', LogisticRegression())])\n",
    "#\n",
    "#model = text_regression.fit(X_train.text, y_train)\n",
    "#predicted = model.predict(X_test.text)\n",
    "\n",
    "\n",
    "# --- make predictions\n",
    "\n",
    "\n",
    "print(np.mean(predicted == y_test))\n",
    "\n",
    "# --- have some fun with the model\n",
    "\n",
    "print(model.predict(tdif.transform(count.transform([\"this product was a bad video game\"]))))"
   ]
  },
  {
   "cell_type": "code",
   "execution_count": null,
   "metadata": {},
   "outputs": [],
   "source": []
  }
 ],
 "metadata": {
  "kernelspec": {
   "display_name": "Python 2",
   "language": "python",
   "name": "python2"
  },
  "language_info": {
   "codemirror_mode": {
    "name": "ipython",
    "version": 2
   },
   "file_extension": ".py",
   "mimetype": "text/x-python",
   "name": "python",
   "nbconvert_exporter": "python",
   "pygments_lexer": "ipython2",
   "version": "2.7.12"
  }
 },
 "nbformat": 4,
 "nbformat_minor": 2
}
