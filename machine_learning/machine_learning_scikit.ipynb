{
 "cells": [
  {
   "cell_type": "code",
   "execution_count": 1,
   "metadata": {},
   "outputs": [
    {
     "name": "stdout",
     "output_type": "stream",
     "text": [
      "Boston House Prices dataset\n",
      "===========================\n",
      "\n",
      "Notes\n",
      "------\n",
      "Data Set Characteristics:  \n",
      "\n",
      "    :Number of Instances: 506 \n",
      "\n",
      "    :Number of Attributes: 13 numeric/categorical predictive\n",
      "    \n",
      "    :Median Value (attribute 14) is usually the target\n",
      "\n",
      "    :Attribute Information (in order):\n",
      "        - CRIM     per capita crime rate by town\n",
      "        - ZN       proportion of residential land zoned for lots over 25,000 sq.ft.\n",
      "        - INDUS    proportion of non-retail business acres per town\n",
      "        - CHAS     Charles River dummy variable (= 1 if tract bounds river; 0 otherwise)\n",
      "        - NOX      nitric oxides concentration (parts per 10 million)\n",
      "        - RM       average number of rooms per dwelling\n",
      "        - AGE      proportion of owner-occupied units built prior to 1940\n",
      "        - DIS      weighted distances to five Boston employment centres\n",
      "        - RAD      index of accessibility to radial highways\n",
      "        - TAX      full-value property-tax rate per $10,000\n",
      "        - PTRATIO  pupil-teacher ratio by town\n",
      "        - B        1000(Bk - 0.63)^2 where Bk is the proportion of blacks by town\n",
      "        - LSTAT    % lower status of the population\n",
      "        - MEDV     Median value of owner-occupied homes in $1000's\n",
      "\n",
      "    :Missing Attribute Values: None\n",
      "\n",
      "    :Creator: Harrison, D. and Rubinfeld, D.L.\n",
      "\n",
      "This is a copy of UCI ML housing dataset.\n",
      "http://archive.ics.uci.edu/ml/datasets/Housing\n",
      "\n",
      "\n",
      "This dataset was taken from the StatLib library which is maintained at Carnegie Mellon University.\n",
      "\n",
      "The Boston house-price data of Harrison, D. and Rubinfeld, D.L. 'Hedonic\n",
      "prices and the demand for clean air', J. Environ. Economics & Management,\n",
      "vol.5, 81-102, 1978.   Used in Belsley, Kuh & Welsch, 'Regression diagnostics\n",
      "...', Wiley, 1980.   N.B. Various transformations are used in the table on\n",
      "pages 244-261 of the latter.\n",
      "\n",
      "The Boston house-price data has been used in many machine learning papers that address regression\n",
      "problems.   \n",
      "     \n",
      "**References**\n",
      "\n",
      "   - Belsley, Kuh & Welsch, 'Regression diagnostics: Identifying Influential Data and Sources of Collinearity', Wiley, 1980. 244-261.\n",
      "   - Quinlan,R. (1993). Combining Instance-Based and Model-Based Learning. In Proceedings on the Tenth International Conference of Machine Learning, 236-243, University of Massachusetts, Amherst. Morgan Kaufmann.\n",
      "   - many more! (see http://archive.ics.uci.edu/ml/datasets/Housing)\n",
      "\n",
      "0.7258515818230065\n",
      "('Coefficient: \\n', array([-1.28060398e-01,  3.77955693e-02,  5.86107797e-02,  3.24007007e+00,\n",
      "       -1.62222676e+01,  3.89352244e+00, -1.27879944e-02, -1.42326864e+00,\n",
      "        2.34513082e-01, -8.20261127e-03, -9.29950535e-01,  1.19151410e-02,\n",
      "       -5.48489997e-01]))\n",
      "('Intercept: \\n', 33.38806218932415)\n",
      "[28.54080212 36.62565764 15.64469728 25.51062031 18.69993288 23.16989566\n",
      " 17.30867875 14.06965841 23.01497472 20.5427518  24.92203654 18.41025124\n",
      " -6.54645007 21.83847756 19.15383946 26.0500292  20.30589531  5.74605994\n",
      " 40.32757556 17.45352028 27.47933884 30.2215045  10.7949011  23.87549524\n",
      " 17.98144193 16.02720474 23.27997086 14.30148846 22.38531077 19.31097039\n",
      " 22.18149786 25.06170003 25.13835099 18.46803881 16.59154887 17.44624818\n",
      " 30.71588161 20.05123134 23.99122845 24.94696504 13.97841749 31.64627513\n",
      " 42.47559491 17.70684793 26.92939592 17.15848476 13.68288634 26.15317994\n",
      " 20.27750404 29.99628434 21.21700931 34.03973952 15.41317821 25.95801525\n",
      " 39.13894467 22.95965093 18.79607647 33.08023827 24.74652392 12.83432922\n",
      " 22.41204697 30.64039048 31.59811962 16.32875502 20.945447   16.70668735\n",
      " 20.22673282 26.14831122 31.12364567 11.83373651 20.45840884 27.48777665\n",
      " 10.86201045 16.77144505 24.03395641  5.45920104 21.35388565 41.26879584\n",
      " 18.13180254  9.80123568 21.24790941 13.01283854 21.80709652  9.48308795\n",
      " 22.99802712 31.90251845 18.92410104 25.48785217 29.50701718 20.07254008\n",
      " 25.56649165  5.56514456 20.18757359 15.08506914 14.36408016 20.85359593\n",
      " 24.80576037 -0.24410557 13.51807355 15.59026391 22.04059136 24.71012941\n",
      " 10.86324484 19.60584932 23.73663076 12.01797817 18.41277238 25.43724983\n",
      " 20.76392549 24.68749234  7.43443353 18.89740683 21.70437616 27.14904108\n",
      " 31.9351051  15.15282667 34.00800852 12.84435428 21.07032371 28.58608656\n",
      " 15.77588614 24.77512039  3.63303554 23.91978938 25.82712482 23.03845123\n",
      " 25.35039633 33.05913081 20.61275978 38.18749299 14.04156227 25.26258362\n",
      " 17.61198117 20.6114628   9.83981013 21.02659225 22.20095133 32.2930752\n",
      " 31.58044028 15.29055936 16.70715569 29.10855059 25.18547352 16.88470768\n",
      "  6.33213613 26.71106475 23.33943349 17.23149367 13.22458002 39.48685716\n",
      " 16.48401094 18.14067216 25.06961442 23.71076111 22.21030844 21.22445596\n",
      " 16.90084311 23.14804133 28.6969266   6.69132837 23.98431223 17.2099628\n",
      " 21.05643412 25.02065805 27.66239338 20.69541424 40.37042623]\n"
     ]
    }
   ],
   "source": [
    "# Linear Regression\n",
    "\n",
    "from sklearn.datasets import load_boston\n",
    "from sklearn.model_selection import train_test_split\n",
    "from sklearn import linear_model\n",
    "\n",
    "dataset = load_boston()\n",
    "\n",
    "print dataset.DESCR\n",
    "\n",
    "x_train, x_test, y_train, y_test = train_test_split(dataset.data, dataset.target, random_state=42, test_size=0.33)\n",
    "\n",
    "model = linear_model.LinearRegression()\n",
    "# Train the model using the training sets and check score\n",
    "model.fit(x_train, y_train)\n",
    "print model.score(x_test, y_test)\n",
    "\n",
    "print('Coefficient: \\n', model.coef_)\n",
    "print('Intercept: \\n', model.intercept_)\n",
    "\n",
    "#Predict Output\n",
    "predicted= model.predict(x_test)\n",
    "\n",
    "print predicted"
   ]
  },
  {
   "cell_type": "code",
   "execution_count": 2,
   "metadata": {},
   "outputs": [
    {
     "name": "stdout",
     "output_type": "stream",
     "text": [
      "Iris Plants Database\n",
      "====================\n",
      "\n",
      "Notes\n",
      "-----\n",
      "Data Set Characteristics:\n",
      "    :Number of Instances: 150 (50 in each of three classes)\n",
      "    :Number of Attributes: 4 numeric, predictive attributes and the class\n",
      "    :Attribute Information:\n",
      "        - sepal length in cm\n",
      "        - sepal width in cm\n",
      "        - petal length in cm\n",
      "        - petal width in cm\n",
      "        - class:\n",
      "                - Iris-Setosa\n",
      "                - Iris-Versicolour\n",
      "                - Iris-Virginica\n",
      "    :Summary Statistics:\n",
      "\n",
      "    ============== ==== ==== ======= ===== ====================\n",
      "                    Min  Max   Mean    SD   Class Correlation\n",
      "    ============== ==== ==== ======= ===== ====================\n",
      "    sepal length:   4.3  7.9   5.84   0.83    0.7826\n",
      "    sepal width:    2.0  4.4   3.05   0.43   -0.4194\n",
      "    petal length:   1.0  6.9   3.76   1.76    0.9490  (high!)\n",
      "    petal width:    0.1  2.5   1.20  0.76     0.9565  (high!)\n",
      "    ============== ==== ==== ======= ===== ====================\n",
      "\n",
      "    :Missing Attribute Values: None\n",
      "    :Class Distribution: 33.3% for each of 3 classes.\n",
      "    :Creator: R.A. Fisher\n",
      "    :Donor: Michael Marshall (MARSHALL%PLU@io.arc.nasa.gov)\n",
      "    :Date: July, 1988\n",
      "\n",
      "This is a copy of UCI ML iris datasets.\n",
      "http://archive.ics.uci.edu/ml/datasets/Iris\n",
      "\n",
      "The famous Iris database, first used by Sir R.A Fisher\n",
      "\n",
      "This is perhaps the best known database to be found in the\n",
      "pattern recognition literature.  Fisher's paper is a classic in the field and\n",
      "is referenced frequently to this day.  (See Duda & Hart, for example.)  The\n",
      "data set contains 3 classes of 50 instances each, where each class refers to a\n",
      "type of iris plant.  One class is linearly separable from the other 2; the\n",
      "latter are NOT linearly separable from each other.\n",
      "\n",
      "References\n",
      "----------\n",
      "   - Fisher,R.A. \"The use of multiple measurements in taxonomic problems\"\n",
      "     Annual Eugenics, 7, Part II, 179-188 (1936); also in \"Contributions to\n",
      "     Mathematical Statistics\" (John Wiley, NY, 1950).\n",
      "   - Duda,R.O., & Hart,P.E. (1973) Pattern Classification and Scene Analysis.\n",
      "     (Q327.D83) John Wiley & Sons.  ISBN 0-471-22361-1.  See page 218.\n",
      "   - Dasarathy, B.V. (1980) \"Nosing Around the Neighborhood: A New System\n",
      "     Structure and Classification Rule for Recognition in Partially Exposed\n",
      "     Environments\".  IEEE Transactions on Pattern Analysis and Machine\n",
      "     Intelligence, Vol. PAMI-2, No. 1, 67-71.\n",
      "   - Gates, G.W. (1972) \"The Reduced Nearest Neighbor Rule\".  IEEE Transactions\n",
      "     on Information Theory, May 1972, 431-433.\n",
      "   - See also: 1988 MLC Proceedings, 54-64.  Cheeseman et al\"s AUTOCLASS II\n",
      "     conceptual clustering system finds 3 classes in the data.\n",
      "   - Many, many more ...\n",
      "\n",
      "1.0\n",
      "[1 0 2 1 1 0 1 2 1 1 2 0 0 0 0 1 2 1 1 2 0 2 0 2 2 2 2 2 0 0 0 0 1 0 0 2 1\n",
      " 0 0 0 2 1 1 0 0 1 2 2 1 2]\n"
     ]
    }
   ],
   "source": [
    "# Logistic Regression\n",
    "\n",
    "from sklearn.datasets import load_iris\n",
    "from sklearn.model_selection import train_test_split\n",
    "from sklearn.linear_model import LogisticRegression\n",
    "\n",
    "dataset = load_iris()\n",
    "\n",
    "print dataset.DESCR\n",
    "\n",
    "x_train, x_test, y_train, y_test = train_test_split(dataset.data, dataset.target, random_state=42, test_size=0.33)\n",
    "\n",
    "model = LogisticRegression()\n",
    "# Train the model using the training sets and check score\n",
    "model.fit(x_train, y_train)\n",
    "print model.score(x_test, y_test)\n",
    "#Predict Output\n",
    "predicted= model.predict(x_test)\n",
    "\n",
    "print predicted"
   ]
  },
  {
   "cell_type": "code",
   "execution_count": 5,
   "metadata": {},
   "outputs": [
    {
     "name": "stdout",
     "output_type": "stream",
     "text": [
      "0.96\n",
      "[1 0 2 1 1 0 1 2 1 1 2 0 0 0 0 2 2 1 1 2 0 2 0 2 2 2 2 2 0 0 0 0 1 0 0 2 1\n",
      " 0 0 0 2 1 1 0 0 1 1 2 1 2]\n"
     ]
    }
   ],
   "source": [
    "# Naive Bayes\n",
    "\n",
    "from sklearn.datasets import load_iris\n",
    "from sklearn.model_selection import train_test_split\n",
    "from sklearn.naive_bayes import GaussianNB\n",
    "\n",
    "dataset = load_iris()\n",
    "\n",
    "x_train, x_test, y_train, y_test = train_test_split(dataset.data, dataset.target, random_state=42, test_size=0.33)\n",
    "\n",
    "model = GaussianNB() \n",
    "# Train the model using the training sets and check score\n",
    "model.fit(x_train, y_train)\n",
    "print model.score(x_test, y_test)\n",
    "#Predict Output\n",
    "predicted= model.predict(x_test)\n",
    "\n",
    "print predicted"
   ]
  },
  {
   "cell_type": "code",
   "execution_count": 6,
   "metadata": {},
   "outputs": [
    {
     "data": {
      "text/plain": [
       "array([[5.1, 3.8, 1.9, 0.4],\n",
       "       [4.8, 3.4, 1.9, 0.2],\n",
       "       [5.5, 4.2, 1.4, 0.2],\n",
       "       [4.5, 2.3, 1.3, 0.3],\n",
       "       [5.8, 4. , 1.2, 0.2],\n",
       "       [5.6, 3. , 4.5, 1.5],\n",
       "       [5. , 2. , 3.5, 1. ],\n",
       "       [5.4, 3. , 4.5, 1.5],\n",
       "       [6.7, 3. , 5. , 1.7],\n",
       "       [5.9, 3.2, 4.8, 1.8],\n",
       "       [5.1, 2.5, 3. , 1.1],\n",
       "       [6. , 2.7, 5.1, 1.6],\n",
       "       [6.3, 2.5, 4.9, 1.5],\n",
       "       [6.1, 2.9, 4.7, 1.4],\n",
       "       [6.5, 2.8, 4.6, 1.5],\n",
       "       [7. , 3.2, 4.7, 1.4],\n",
       "       [6.1, 3. , 4.6, 1.4],\n",
       "       [5.5, 2.6, 4.4, 1.2],\n",
       "       [4.9, 2.4, 3.3, 1. ],\n",
       "       [6.9, 3.1, 4.9, 1.5],\n",
       "       [6.3, 2.3, 4.4, 1.3],\n",
       "       [6.3, 2.8, 5.1, 1.5],\n",
       "       [7.7, 2.8, 6.7, 2. ],\n",
       "       [6.3, 2.7, 4.9, 1.8],\n",
       "       [7.7, 3.8, 6.7, 2.2],\n",
       "       [5.7, 2.5, 5. , 2. ],\n",
       "       [6. , 3. , 4.8, 1.8],\n",
       "       [5.8, 2.7, 5.1, 1.9],\n",
       "       [6.2, 3.4, 5.4, 2.3],\n",
       "       [6.1, 2.6, 5.6, 1.4],\n",
       "       [6. , 2.2, 5. , 1.5],\n",
       "       [6.3, 3.3, 6. , 2.5],\n",
       "       [6.2, 2.8, 4.8, 1.8],\n",
       "       [6.9, 3.1, 5.4, 2.1],\n",
       "       [6.5, 3. , 5.2, 2. ],\n",
       "       [7.2, 3. , 5.8, 1.6],\n",
       "       [5.6, 2.8, 4.9, 2. ],\n",
       "       [5.9, 3. , 5.1, 1.8],\n",
       "       [4.9, 2.5, 4.5, 1.7]])"
      ]
     },
     "execution_count": 6,
     "metadata": {},
     "output_type": "execute_result"
    }
   ],
   "source": [
    "# Support Vector Machines\n",
    "\n",
    "# Implmentation 1\n",
    "#import the dependencies\n",
    "from sklearn.datasets import load_iris\n",
    "from sklearn.svm import SVC\n",
    "#load dataset\n",
    "dataset = load_iris()\n",
    "data = dataset.data\n",
    "target = dataset.target\n",
    "\n",
    "# Feature scaling to preprocess the data\n",
    "from sklearn.preprocessing import StandardScaler\n",
    "sc = StandardScaler()\n",
    "sc.fit_transform(data)\n",
    "\n",
    "#now let us divide data into training and testing set\n",
    "from sklearn.model_selection import train_test_split\n",
    "X_train, X_test, y_train, y_test = train_test_split(data, target, random_state=42, test_size=0.3)\n",
    "\n",
    "#train a model\n",
    "model = SVC()\n",
    "model.fit(X_train,y_train)\n",
    "\n",
    "from sklearn.metrics import accuracy_score\n",
    "\n",
    "accuracy_score(y_test, model.predict(X_test))\n",
    "\n",
    "model.support_vectors_.shape\n",
    "\n",
    "model.support_vectors_"
   ]
  },
  {
   "cell_type": "code",
   "execution_count": 7,
   "metadata": {},
   "outputs": [
    {
     "name": "stdout",
     "output_type": "stream",
     "text": [
      "1.0\n",
      "[1 0 2 1 1 0 1 2 1 1 2 0 0 0 0 1 2 1 1 2 0 2 0 2 2 2 2 2 0 0 0 0 1 0 0 2 1\n",
      " 0 0 0 2 1 1 0 0 1 2 2 1 2]\n"
     ]
    }
   ],
   "source": [
    "# Support Vector Machines\n",
    "\n",
    "# Implementation 2\n",
    "\n",
    "from sklearn.datasets import load_iris\n",
    "from sklearn.model_selection import train_test_split\n",
    "from sklearn import svm\n",
    "\n",
    "dataset = load_iris()\n",
    "\n",
    "x_train, x_test, y_train, y_test = train_test_split(dataset.data, dataset.target, random_state=42, test_size=0.33)\n",
    "\n",
    "model = svm.SVC() \n",
    "# Train the model using the training sets and check score\n",
    "model.fit(x_train, y_train)\n",
    "print model.score(x_test, y_test)\n",
    "#Predict Output\n",
    "predicted= model.predict(x_test)\n",
    "\n",
    "print predicted"
   ]
  },
  {
   "cell_type": "code",
   "execution_count": 8,
   "metadata": {},
   "outputs": [
    {
     "data": {
      "text/plain": [
       "0.9777777777777777"
      ]
     },
     "execution_count": 8,
     "metadata": {},
     "output_type": "execute_result"
    }
   ],
   "source": [
    "# Decision Tree\n",
    "\n",
    "#import libs and dataset\n",
    "from sklearn.datasets import load_iris\n",
    "from sklearn.tree import DecisionTreeClassifier\n",
    "from sklearn.model_selection import train_test_split\n",
    "\n",
    "dataset = load_iris()\n",
    "X = dataset.data\n",
    "y = dataset.target\n",
    "\n",
    "X_train, X_test, y_train, y_test = train_test_split(X,y,test_size=0.3, random_state=42)\n",
    "\n",
    "model = DecisionTreeClassifier(criterion=\"entropy\", max_depth=3, random_state=42)\n",
    "#decision trees are prone to overfitting thats why we remove some sub-nodes of the tree, that's called \"pruning\"\n",
    "#here, we control depth of the tree using max_depth attribute\n",
    "#random_state- just to make sure we get same results each time we run this code\n",
    "\n",
    "model.fit(X_train, y_train)\n",
    "\n",
    "#test the model\n",
    "model.score(X_test, y_test)"
   ]
  },
  {
   "cell_type": "code",
   "execution_count": 9,
   "metadata": {},
   "outputs": [
    {
     "name": "stdout",
     "output_type": "stream",
     "text": [
      "0.98\n",
      "[1 0 2 1 1 0 1 2 1 1 2 0 0 0 0 1 2 1 1 2 0 2 0 2 2 2 2 2 0 0 0 0 1 0 0 2 1\n",
      " 0 0 0 2 1 1 0 0 1 1 2 1 2]\n"
     ]
    }
   ],
   "source": [
    "# Random Forest\n",
    "\n",
    "from sklearn.datasets import load_iris\n",
    "from sklearn.model_selection import train_test_split\n",
    "from sklearn.ensemble import RandomForestClassifier\n",
    "\n",
    "dataset = load_iris()\n",
    "\n",
    "x_train, x_test, y_train, y_test = train_test_split(dataset.data, dataset.target, random_state=42, test_size=0.33)\n",
    "\n",
    "model = RandomForestClassifier()\n",
    "# Train the model using the training sets and check score\n",
    "model.fit(x_train, y_train)\n",
    "print model.score(x_test, y_test)\n",
    "#Predict Output\n",
    "predicted= model.predict(x_test)\n",
    "\n",
    "print predicted"
   ]
  },
  {
   "cell_type": "code",
   "execution_count": 10,
   "metadata": {},
   "outputs": [
    {
     "name": "stdout",
     "output_type": "stream",
     "text": [
      "0.98\n",
      "[1 0 2 1 1 0 1 2 1 1 2 0 0 0 0 1 2 1 1 2 0 2 0 2 2 2 2 2 0 0 0 0 1 0 0 2 1\n",
      " 0 0 0 2 1 1 0 0 1 1 2 1 2]\n"
     ]
    }
   ],
   "source": [
    "# K-nearest Neighbor\n",
    "\n",
    "from sklearn.datasets import load_iris\n",
    "from sklearn.model_selection import train_test_split\n",
    "from sklearn.neighbors import KNeighborsClassifier\n",
    "\n",
    "dataset = load_iris()\n",
    "\n",
    "x_train, x_test, y_train, y_test = train_test_split(dataset.data, dataset.target, random_state=42, test_size=0.33)\n",
    "\n",
    "model = KNeighborsClassifier(n_neighbors=6)\n",
    "# Train the model using the training sets and check score\n",
    "model.fit(x_train, y_train)\n",
    "print model.score(x_test, y_test)\n",
    "#Predict Output\n",
    "predicted= model.predict(x_test)\n",
    "\n",
    "print predicted"
   ]
  },
  {
   "cell_type": "code",
   "execution_count": 2,
   "metadata": {},
   "outputs": [
    {
     "data": {
      "text/plain": [
       "KMeans(algorithm='auto', copy_x=True, init='k-means++', max_iter=300,\n",
       "    n_clusters=10, n_init=10, n_jobs=1, precompute_distances='auto',\n",
       "    random_state=None, tol=0.0001, verbose=0)"
      ]
     },
     "execution_count": 2,
     "metadata": {},
     "output_type": "execute_result"
    }
   ],
   "source": [
    "# K-means Clustering\n",
    "\n",
    "from sklearn.datasets import load_digits\n",
    "from sklearn.cluster import KMeans\n",
    "from sklearn.preprocessing import StandardScaler\n",
    "\n",
    "digits = load_digits()\n",
    "dataset = digits.data\n",
    "#standardize\n",
    "ss = StandardScaler()\n",
    "dataset = ss.fit_transform(dataset)\n",
    "\n",
    "model = KMeans(n_clusters= 10, init=\"k-means++\", n_init=10)\n",
    "model.fit(dataset)\n"
   ]
  },
  {
   "cell_type": "code",
   "execution_count": 12,
   "metadata": {},
   "outputs": [
    {
     "data": {
      "text/plain": [
       "array([6, 4, 4, ..., 4, 0, 0], dtype=int32)"
      ]
     },
     "execution_count": 12,
     "metadata": {},
     "output_type": "execute_result"
    }
   ],
   "source": [
    "model.labels_   #assigned label(cluster) to each data point"
   ]
  },
  {
   "cell_type": "code",
   "execution_count": 13,
   "metadata": {},
   "outputs": [
    {
     "data": {
      "text/plain": [
       "69746.95901423629"
      ]
     },
     "execution_count": 13,
     "metadata": {},
     "output_type": "execute_result"
    }
   ],
   "source": [
    "model.inertia_  #sum of distances of samples to their closest centroid"
   ]
  },
  {
   "cell_type": "code",
   "execution_count": 14,
   "metadata": {},
   "outputs": [
    {
     "data": {
      "text/plain": [
       "array([[ 0.00000000e+00, -2.19299220e-02,  4.00516452e-01,\n",
       "         2.67677295e-01,  1.84069302e-01,  1.07811314e-01,\n",
       "        -2.27036743e-01, -1.20261281e-01, -6.65169532e-03,\n",
       "         3.59697565e-01,  5.26253133e-01, -7.40573320e-01,\n",
       "         4.57613223e-03,  4.96490075e-01, -1.14869090e-01,\n",
       "        -1.27450196e-01, -5.02445269e-03,  2.19868217e-01,\n",
       "        -9.79917344e-02, -4.45245349e-01,  3.28471275e-01,\n",
       "         4.83190886e-01, -1.00279782e-01, -1.14221844e-01,\n",
       "        -3.33797263e-02, -3.23563527e-01, -3.72928887e-01,\n",
       "         2.75552434e-01,  5.77510844e-01,  4.29256347e-01,\n",
       "        -1.73314769e-01, -4.72323823e-02,  0.00000000e+00,\n",
       "        -5.99279009e-01, -8.56465847e-01, -5.93411437e-01,\n",
       "        -2.96851121e-01,  5.48464392e-01,  2.20455273e-01,\n",
       "         0.00000000e+00, -6.13436689e-02, -4.21120879e-01,\n",
       "        -7.52132078e-01, -9.28057654e-01, -8.46060834e-01,\n",
       "         6.00688427e-01,  7.30058498e-01, -5.65987729e-02,\n",
       "        -3.54332626e-02,  7.59191350e-02,  2.65525552e-02,\n",
       "        -7.52431309e-01, -6.30065105e-01,  7.07558161e-01,\n",
       "         4.88168046e-01, -1.37025270e-01, -2.35964589e-02,\n",
       "        -5.58797110e-02,  3.46138670e-01,  3.47176916e-01,\n",
       "         4.91719215e-01,  5.13819369e-01, -2.26395243e-02,\n",
       "        -1.72107569e-01],\n",
       "       [ 0.00000000e+00, -3.35016487e-01, -1.01431556e+00,\n",
       "        -1.11309607e+00, -1.90409138e-02, -6.38004502e-01,\n",
       "        -3.75505094e-01, -1.25022923e-01, -5.90775571e-02,\n",
       "        -6.22135235e-01, -1.30682140e+00,  3.71106132e-01,\n",
       "        -3.25180900e-01, -1.04928312e+00, -3.47976546e-01,\n",
       "        -1.01494707e-01, -4.46250733e-02, -5.75236901e-01,\n",
       "         6.85935394e-02,  7.73356298e-01, -3.66958542e-01,\n",
       "        -3.92068485e-01,  4.69115186e-01,  2.68159147e-01,\n",
       "        -3.33797263e-02,  6.67329815e-01,  8.65519581e-01,\n",
       "        -5.01099716e-01, -4.89552297e-01,  5.10894856e-01,\n",
       "         9.91012713e-01,  7.98283826e-02,  0.00000000e+00,\n",
       "         1.94353463e+00,  1.13130134e+00,  6.97654963e-02,\n",
       "         4.34709322e-01,  9.79210515e-01,  8.06262787e-01,\n",
       "         0.00000000e+00,  5.98743595e-01,  1.73457358e+00,\n",
       "         7.79448185e-01,  8.42373621e-01,  1.12409945e+00,\n",
       "         4.42221909e-01, -4.26246167e-01, -8.87416172e-02,\n",
       "         2.57858183e-01,  2.34446178e-01, -8.05058358e-01,\n",
       "        -3.44982772e-01,  7.89075649e-01, -7.38554577e-01,\n",
       "        -7.55000682e-01, -2.09785127e-01, -2.35964589e-02,\n",
       "        -2.73437852e-01, -9.90787728e-01, -9.96575206e-01,\n",
       "         3.01987361e-02, -7.97454884e-01, -5.05669803e-01,\n",
       "        -1.96007519e-01],\n",
       "       [ 0.00000000e+00, -3.35016487e-01, -8.38212710e-01,\n",
       "        -1.12981115e-01, -5.36619912e-01, -7.40407034e-01,\n",
       "        -3.89333041e-01, -1.25022923e-01, -5.90775571e-02,\n",
       "        -6.04559615e-01, -5.58376617e-01,  6.45958500e-01,\n",
       "        -8.92646504e-01, -1.21291624e+00, -5.02385135e-01,\n",
       "        -1.30433381e-01, -4.46250733e-02, -5.01676925e-01,\n",
       "         4.95676045e-01,  3.88864608e-01, -1.02336732e+00,\n",
       "        -1.25268734e+00, -5.48805463e-01, -1.14221844e-01,\n",
       "        -3.33797263e-02, -2.03291051e-03,  7.63765020e-01,\n",
       "        -1.65594583e-01, -9.90335835e-01, -9.59060832e-01,\n",
       "        -5.99769124e-01, -4.72323823e-02,  0.00000000e+00,\n",
       "         3.68458033e-01,  1.12933236e+00,  6.05207311e-01,\n",
       "         3.33938947e-01,  3.15078913e-01, -1.42907072e-02,\n",
       "         0.00000000e+00, -6.13436689e-02,  1.13101239e-01,\n",
       "         1.17208464e+00,  5.12030770e-01, -3.82787401e-01,\n",
       "         3.40473451e-01,  1.39519941e+00,  6.83503836e-01,\n",
       "        -3.54332626e-02, -3.00009434e-01,  4.89857698e-01,\n",
       "         5.62816533e-01, -7.94793216e-01,  4.10176942e-01,\n",
       "         1.48497279e+00,  3.35594865e-01, -2.35964589e-02,\n",
       "        -2.99081347e-01, -7.91481601e-01, -2.67094907e-01,\n",
       "         6.81259922e-01,  1.07532026e+00,  5.96805873e-01,\n",
       "        -1.44359322e-01],\n",
       "       [ 0.00000000e+00,  1.48104574e+00,  1.44343876e+00,\n",
       "         6.87794172e-01, -7.89708567e-01, -7.50673670e-01,\n",
       "        -3.98666367e-01, -1.25022923e-01,  4.87346407e-01,\n",
       "         1.66107724e+00,  7.73296421e-01, -7.98819451e-02,\n",
       "         4.39833649e-01, -6.98583158e-01, -4.61669491e-01,\n",
       "        -1.30433381e-01,  7.33032454e-02,  7.07854027e-01,\n",
       "        -5.33560746e-01, -3.21970454e-01,  1.00716318e+00,\n",
       "        -5.98934302e-01, -4.54044163e-01, -1.14221844e-01,\n",
       "        -3.33797263e-02, -5.88756087e-01, -1.11822192e+00,\n",
       "        -1.57160869e-01,  5.13973794e-01, -7.77762174e-01,\n",
       "        -5.01207058e-01, -4.72323823e-02,  0.00000000e+00,\n",
       "        -6.21653646e-01, -7.69541119e-01,  4.68442968e-01,\n",
       "        -5.58048801e-02, -1.24806317e+00, -7.70712609e-01,\n",
       "         0.00000000e+00, -6.13436689e-02, -3.85753906e-01,\n",
       "         6.88502778e-03,  7.77555703e-01, -3.37725439e-01,\n",
       "        -9.85522097e-01, -5.19761142e-01, -4.08818675e-02,\n",
       "        -3.54332626e-02,  6.32604072e-01,  1.01643929e+00,\n",
       "         5.49715132e-01,  1.57294446e-01,  3.12003812e-01,\n",
       "         5.17881709e-01, -6.03543861e-02, -2.35964589e-02,\n",
       "         1.36194773e+00,  1.42136360e+00,  4.04999726e-01,\n",
       "         1.60933176e-01,  5.53546577e-01,  7.92518466e-01,\n",
       "        -8.13404798e-02],\n",
       "       [ 0.00000000e+00, -3.14597798e-01, -5.20701478e-01,\n",
       "        -4.35687543e-01,  2.01351314e-01,  8.88509568e-02,\n",
       "        -2.24808850e-01, -1.25022923e-01, -5.90775571e-02,\n",
       "        -4.89551299e-01, -6.97848868e-01,  2.58522291e-01,\n",
       "         6.56543502e-01,  3.54085654e-01, -8.73219392e-02,\n",
       "        -1.30433381e-01, -4.46250733e-02, -3.80615643e-01,\n",
       "        -3.09135320e-01,  8.98913890e-01,  8.87565265e-01,\n",
       "         2.82331404e-01, -2.68098090e-01, -1.14221844e-01,\n",
       "        -3.33797263e-02, -2.58806399e-01, -1.58934700e-01,\n",
       "         8.04326152e-01,  6.84500104e-01, -2.40291745e-01,\n",
       "        -5.80657882e-01, -4.72323823e-02,  0.00000000e+00,\n",
       "        -4.08384945e-01, -7.70286115e-03,  7.00130880e-01,\n",
       "         5.52925943e-01, -8.09578111e-01, -7.88132323e-01,\n",
       "         0.00000000e+00, -6.13436689e-02, -1.39914769e-01,\n",
       "         2.95793403e-01,  5.75374852e-01,  7.79178047e-01,\n",
       "        -4.36367915e-01, -7.05888076e-01, -8.87416172e-02,\n",
       "         1.89885946e-02, -2.37986689e-02,  4.07733554e-02,\n",
       "         2.49069064e-01,  6.06232631e-01, -2.46192584e-01,\n",
       "        -5.48077967e-01, -2.06021686e-01,  1.33451084e-01,\n",
       "        -2.55463662e-01, -5.26015816e-01, -4.36164628e-01,\n",
       "         2.39177859e-01, -2.40429630e-02, -2.23097090e-01,\n",
       "        -1.92024194e-01],\n",
       "       [ 0.00000000e+00,  9.68067122e-01,  1.06751481e+00,\n",
       "         3.87197227e-01,  5.21753093e-01,  1.18822903e+00,\n",
       "         8.65599819e-01, -9.37166704e-02,  9.85904687e-03,\n",
       "         8.61546510e-01,  8.40001045e-01,  4.11038994e-02,\n",
       "        -3.27327822e-01, -7.84214711e-02,  1.91351480e-01,\n",
       "        -9.12064451e-02,  1.63663905e-01,  9.77774879e-01,\n",
       "         7.31522062e-01, -1.76732452e-01, -7.06862287e-01,\n",
       "        -1.00634614e+00, -5.20910362e-01, -1.14221844e-01,\n",
       "         3.56122664e-01,  8.35352059e-01,  7.49962360e-01,\n",
       "         5.82419644e-01, -3.03828205e-01, -9.04664637e-01,\n",
       "        -6.00704843e-01, -4.72323823e-02,  0.00000000e+00,\n",
       "        -1.34886551e-01,  2.18208511e-02,  1.82314312e-01,\n",
       "        -7.60243912e-02, -6.31291186e-01, -6.84976218e-01,\n",
       "         0.00000000e+00, -6.13436689e-02, -4.04942236e-01,\n",
       "        -7.87575938e-01, -2.74415054e-01,  3.56415475e-01,\n",
       "        -3.00412504e-01, -6.54296915e-01, -8.87416172e-02,\n",
       "        -3.54332626e-02,  7.25575512e-02, -3.45302192e-01,\n",
       "        -1.12357956e-02,  5.07048350e-01, -6.27659908e-01,\n",
       "        -7.04622003e-01, -2.09785127e-01, -2.35964589e-02,\n",
       "         9.03623524e-01,  1.13680956e+00,  5.88387821e-01,\n",
       "        -8.11732626e-01, -9.76025859e-01, -5.04081919e-01,\n",
       "        -1.96007519e-01],\n",
       "       [ 0.00000000e+00, -3.10238752e-01, -2.06177764e-01,\n",
       "         3.03168840e-01, -1.40191740e-01, -5.03966912e-01,\n",
       "        -3.99585759e-01, -1.25022923e-01, -5.90775571e-02,\n",
       "        -3.46211086e-01,  4.17672645e-01,  3.49905412e-01,\n",
       "         2.38843406e-01,  5.24264003e-01, -2.45478180e-01,\n",
       "        -1.30433381e-01, -4.46250733e-02,  3.20429312e-01,\n",
       "         7.71457454e-01, -2.98969956e-01, -8.06601146e-01,\n",
       "         6.93198664e-01,  5.32051362e-01, -1.14221844e-01,\n",
       "        -3.33797263e-02,  9.07972853e-01,  5.85143100e-01,\n",
       "        -1.15219864e+00, -1.57661191e+00,  2.57254863e-01,\n",
       "         1.12870850e+00, -4.72323823e-02,  0.00000000e+00,\n",
       "         1.02784152e+00,  6.15056355e-01, -1.30867433e+00,\n",
       "        -1.73098189e+00,  5.32680477e-03,  1.20443628e+00,\n",
       "         0.00000000e+00, -6.13436689e-02,  6.54131511e-01,\n",
       "         9.81663232e-01, -8.72074591e-01, -9.95308509e-01,\n",
       "         5.43552357e-01,  5.58944660e-01, -8.87416172e-02,\n",
       "        -3.54332626e-02,  5.98517672e-02,  9.90363911e-01,\n",
       "         7.42005066e-02,  1.70542961e-01,  7.50982414e-01,\n",
       "        -2.66237735e-01, -2.09785127e-01, -2.35964589e-02,\n",
       "        -2.93066651e-01, -2.70076231e-01,  3.39317333e-01,\n",
       "         3.10906680e-01, -2.21901899e-01, -4.38354242e-01,\n",
       "        -1.96007519e-01],\n",
       "       [ 0.00000000e+00, -3.35016487e-01, -8.28466701e-01,\n",
       "        -8.48115107e-01,  7.43285221e-02,  8.44650030e-01,\n",
       "         2.85859425e+00,  5.49966718e+00, -5.90775571e-02,\n",
       "        -6.03145096e-01, -7.65500207e-01,  6.08733555e-01,\n",
       "        -1.62998847e-01, -3.45682437e-02,  3.39911435e+00,\n",
       "         6.71597443e+00, -4.46250733e-02, -5.78474902e-01,\n",
       "         7.56103918e-02,  1.27661027e-01, -9.12093503e-01,\n",
       "         8.50586976e-02,  3.46065046e+00,  4.52305810e+00,\n",
       "        -3.33797263e-02, -5.39383930e-02,  3.40650983e-01,\n",
       "        -3.43694278e-01, -3.72947213e-01,  1.14380547e+00,\n",
       "         1.42423401e+00,  2.07468239e+00,  0.00000000e+00,\n",
       "        -6.88205970e-02,  7.37174667e-02, -1.07200283e-01,\n",
       "         2.24503654e-01,  7.59238646e-01,  4.45022970e-02,\n",
       "         0.00000000e+00, -6.13436689e-02, -3.97100328e-01,\n",
       "        -6.80545244e-01, -2.78717448e-01,  6.64949677e-01,\n",
       "        -2.05453216e-01, -7.05888076e-01, -8.87416172e-02,\n",
       "        -3.54332626e-02, -4.03574986e-01, -1.22990984e+00,\n",
       "        -3.96625798e-01,  4.05695263e-01, -1.06009538e+00,\n",
       "        -7.57435810e-01, -2.09785127e-01, -2.35964589e-02,\n",
       "        -2.99081347e-01, -7.95357643e-01, -3.48091633e-01,\n",
       "        -8.53332568e-01, -1.02798289e+00, -5.05669803e-01,\n",
       "        -1.96007519e-01],\n",
       "       [ 0.00000000e+00, -2.72897659e-01,  4.13217003e-01,\n",
       "         4.73021184e-01, -1.02922534e+00, -8.36670480e-01,\n",
       "        -4.09723921e-01, -1.25022923e-01, -5.90775571e-02,\n",
       "        -4.21634841e-02,  1.34756341e-01,  2.70827436e-01,\n",
       "        -1.58580270e-01, -6.71457201e-01, -4.91421184e-01,\n",
       "        -1.30433381e-01,  1.81265791e-01, -6.73882554e-03,\n",
       "        -1.63703807e-01,  1.80913516e-01,  2.67012505e-01,\n",
       "        -3.96125048e-01, -4.62369938e-01, -1.14221844e-01,\n",
       "        -3.33797263e-02, -3.82135147e-01, -6.85941346e-01,\n",
       "        -3.50399705e-01,  9.65836188e-02, -3.93811792e-01,\n",
       "        -5.48640759e-01, -4.72323823e-02,  0.00000000e+00,\n",
       "        -6.19748721e-01, -9.60895729e-01, -5.46368590e-01,\n",
       "         3.88415801e-01, -6.88325586e-01, -7.94814642e-01,\n",
       "         0.00000000e+00, -6.13436689e-02, -5.31284098e-01,\n",
       "        -9.34316834e-01, -1.53538064e-01,  8.37880242e-01,\n",
       "        -6.32725572e-01, -7.00683334e-01, -4.29041104e-02,\n",
       "        -3.54332626e-02, -3.63233651e-01, -1.84685646e-01,\n",
       "         7.00020255e-01,  8.24907623e-01,  3.43727967e-01,\n",
       "         1.09547338e+00,  3.02465378e+00, -2.35964589e-02,\n",
       "        -2.84002250e-01,  1.86107572e-01,  5.04572805e-01,\n",
       "         4.01333247e-01,  1.24335724e+00,  2.97291357e+00,\n",
       "         4.26503594e+00],\n",
       "       [ 0.00000000e+00, -2.71708782e-01, -1.54809244e-01,\n",
       "        -7.77280242e-04,  4.40661708e-01,  1.01827760e+00,\n",
       "         1.05093138e+00,  1.10268283e-01, -5.90775571e-02,\n",
       "        -3.75436175e-01, -1.49205212e-02, -1.98173092e-01,\n",
       "        -1.23937361e-02,  7.45026699e-01,  1.08643383e+00,\n",
       "        -4.95020190e-02, -4.46250733e-02, -4.18508226e-01,\n",
       "        -6.89432997e-01, -7.31173111e-01, -3.05879171e-02,\n",
       "         7.36341795e-01,  5.17081046e-01, -1.03309741e-01,\n",
       "        -3.33797263e-02, -4.38306736e-01, -5.49611477e-01,\n",
       "        -2.09622419e-01,  4.79400780e-01,  8.05805712e-01,\n",
       "         5.91479364e-01, -4.72323823e-02,  0.00000000e+00,\n",
       "        -3.27210573e-01,  8.59258915e-02,  5.53547000e-01,\n",
       "         6.33159878e-01,  3.31397647e-01,  2.02896056e-01,\n",
       "         0.00000000e+00, -6.13436689e-02, -2.55212226e-01,\n",
       "        -3.85217356e-01,  4.79476769e-01,  4.83612104e-01,\n",
       "        -5.97823024e-01, -6.60138020e-01, -8.87416172e-02,\n",
       "        -3.54332626e-02, -3.84388724e-01, -8.86873992e-01,\n",
       "         3.41810189e-01, -4.79316332e-01, -1.15503037e+00,\n",
       "        -7.46734065e-01, -2.09785127e-01, -2.35964589e-02,\n",
       "        -2.52978270e-01, -1.08208516e-02, -1.94308306e-01,\n",
       "        -1.64816583e+00, -9.64960078e-01, -4.77589334e-01,\n",
       "        -1.96007519e-01]])"
      ]
     },
     "execution_count": 14,
     "metadata": {},
     "output_type": "execute_result"
    }
   ],
   "source": [
    "model.cluster_centers_"
   ]
  },
  {
   "cell_type": "code",
   "execution_count": 15,
   "metadata": {},
   "outputs": [
    {
     "name": "stdout",
     "output_type": "stream",
     "text": [
      "[[ 0.  0.  0. 12. 13.  5.  0.  0.]\n",
      " [ 0.  0.  0. 11. 16.  9.  0.  0.]\n",
      " [ 0.  0.  3. 15. 16.  6.  0.  0.]\n",
      " [ 0.  7. 15. 16. 16.  2.  0.  0.]\n",
      " [ 0.  0.  1. 16. 16.  3.  0.  0.]\n",
      " [ 0.  0.  1. 16. 16.  6.  0.  0.]\n",
      " [ 0.  0.  1. 16. 16.  6.  0.  0.]\n",
      " [ 0.  0.  0. 11. 16. 10.  0.  0.]]\n"
     ]
    },
    {
     "data": {
      "text/plain": [
       "<matplotlib.image.AxesImage at 0x7fa8d34e5a50>"
      ]
     },
     "execution_count": 15,
     "metadata": {},
     "output_type": "execute_result"
    },
    {
     "data": {
      "image/png": "[encoded data removed]",
      "text/plain": [
       "<Figure size 432x288 with 1 Axes>"
      ]
     },
     "metadata": {},
     "output_type": "display_data"
    }
   ],
   "source": [
    "import matplotlib.pyplot as plt\n",
    "print(digits.images[1])\n",
    "%matplotlib inline\n",
    "plt.imshow(digits.images[1], cmap='gray')"
   ]
  },
  {
   "cell_type": "code",
   "execution_count": 16,
   "metadata": {},
   "outputs": [
    {
     "data": {
      "text/plain": [
       "array([4], dtype=int32)"
      ]
     },
     "execution_count": 16,
     "metadata": {},
     "output_type": "execute_result"
    }
   ],
   "source": [
    "model.predict(dataset[1].reshape(1,-1)) #should be one"
   ]
  },
  {
   "cell_type": "code",
   "execution_count": 17,
   "metadata": {},
   "outputs": [
    {
     "data": {
      "text/plain": [
       "<matplotlib.image.AxesImage at 0x7fa8d3483910>"
      ]
     },
     "execution_count": 17,
     "metadata": {},
     "output_type": "execute_result"
    },
    {
     "data": {
      "image/png": "[encoded data removed]",
      "text/plain": [
       "<Figure size 432x288 with 1 Axes>"
      ]
     },
     "metadata": {},
     "output_type": "display_data"
    }
   ],
   "source": [
    "plt.imshow(digits.images[333], cmap='gray')"
   ]
  },
  {
   "cell_type": "code",
   "execution_count": 32,
   "metadata": {},
   "outputs": [
    {
     "data": {
      "text/plain": [
       "array([3], dtype=int32)"
      ]
     },
     "execution_count": 32,
     "metadata": {},
     "output_type": "execute_result"
    }
   ],
   "source": [
    "model.predict(dataset[333].reshape(1,-1))  #should be 2"
   ]
  },
  {
   "cell_type": "code",
   "execution_count": 19,
   "metadata": {},
   "outputs": [
    {
     "data": {
      "text/plain": [
       "<matplotlib.image.AxesImage at 0x7fa8d33f3a90>"
      ]
     },
     "execution_count": 19,
     "metadata": {},
     "output_type": "execute_result"
    },
    {
     "data": {
      "image/png": "[encoded data removed]",
      "text/plain": [
       "<Figure size 432x288 with 1 Axes>"
      ]
     },
     "metadata": {},
     "output_type": "display_data"
    }
   ],
   "source": [
    "plt.imshow(digits.images[1], cmap='gray')"
   ]
  },
  {
   "cell_type": "code",
   "execution_count": 27,
   "metadata": {
    "scrolled": true
   },
   "outputs": [
    {
     "name": "stdout",
     "output_type": "stream",
     "text": [
      "[[255 255 255 ... 255 255 255]\n",
      " [255 255 255 ... 255 255 255]\n",
      " [255 255 255 ... 255 255 255]\n",
      " ...\n",
      " [255 255 255 ... 255 255 255]\n",
      " [255 255 255 ... 255 255 255]\n",
      " [255 255 255 ... 255 255 255]]\n"
     ]
    },
    {
     "data": {
      "text/plain": [
       "<matplotlib.image.AxesImage at 0x7fa8d4205d50>"
      ]
     },
     "execution_count": 27,
     "metadata": {},
     "output_type": "execute_result"
    },
    {
     "data": {
      "image/png": "[encoded data removed]",
      "text/plain": [
       "<Figure size 432x288 with 1 Axes>"
      ]
     },
     "metadata": {},
     "output_type": "display_data"
    }
   ],
   "source": [
    "import cv2\n",
    "\n",
    "img = cv2.imread('/home/suraj/Desktop/digits2.png')\n",
    "img_gray = cv2.cvtColor(img, cv2.COLOR_BGR2GRAY)\n",
    "\n",
    "print(img_gray)\n",
    "\n",
    "%matplotlib inline\n",
    "plt.imshow(img_gray, cmap='gray')"
   ]
  },
  {
   "cell_type": "code",
   "execution_count": null,
   "metadata": {},
   "outputs": [],
   "source": []
  }
 ],
 "metadata": {
  "kernelspec": {
   "display_name": "Python 2",
   "language": "python",
   "name": "python2"
  },
  "language_info": {
   "codemirror_mode": {
    "name": "ipython",
    "version": 2
   },
   "file_extension": ".py",
   "mimetype": "text/x-python",
   "name": "python",
   "nbconvert_exporter": "python",
   "pygments_lexer": "ipython2",
   "version": "2.7.12"
  }
 },
 "nbformat": 4,
 "nbformat_minor": 2
}
